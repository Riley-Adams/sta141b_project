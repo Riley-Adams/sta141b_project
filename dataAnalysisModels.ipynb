{
 "cells": [
  {
   "cell_type": "code",
   "execution_count": 1,
   "id": "5dc430f5",
   "metadata": {},
   "outputs": [],
   "source": [
    "import pandas as pd\n",
    "from sklearn.feature_extraction.text import CountVectorizer\n",
    "from sklearn.model_selection import train_test_split\n",
    "from sklearn.linear_model import LogisticRegression\n",
    "from sklearn.metrics import confusion_matrix, classification_report\n",
    "import nltk"
   ]
  },
  {
   "cell_type": "code",
   "execution_count": 2,
   "id": "a45f5182",
   "metadata": {},
   "outputs": [
    {
     "data": {
      "text/html": [
       "<div>\n",
       "<style scoped>\n",
       "    .dataframe tbody tr th:only-of-type {\n",
       "        vertical-align: middle;\n",
       "    }\n",
       "\n",
       "    .dataframe tbody tr th {\n",
       "        vertical-align: top;\n",
       "    }\n",
       "\n",
       "    .dataframe thead th {\n",
       "        text-align: right;\n",
       "    }\n",
       "</style>\n",
       "<table border=\"1\" class=\"dataframe\">\n",
       "  <thead>\n",
       "    <tr style=\"text-align: right;\">\n",
       "      <th></th>\n",
       "      <th>Unnamed: 0</th>\n",
       "      <th>clarityRating</th>\n",
       "      <th>helpfulRating</th>\n",
       "      <th>difficultyRating</th>\n",
       "      <th>qualityRating</th>\n",
       "      <th>comment</th>\n",
       "      <th>commentWords</th>\n",
       "    </tr>\n",
       "  </thead>\n",
       "  <tbody>\n",
       "    <tr>\n",
       "      <th>0</th>\n",
       "      <td>0</td>\n",
       "      <td>5</td>\n",
       "      <td>5</td>\n",
       "      <td>1</td>\n",
       "      <td>5.0</td>\n",
       "      <td>He is amazing! I had lots of fun in his class....</td>\n",
       "      <td>amazing lot fun class get use may seem little ...</td>\n",
       "    </tr>\n",
       "    <tr>\n",
       "      <th>1</th>\n",
       "      <td>1</td>\n",
       "      <td>2</td>\n",
       "      <td>1</td>\n",
       "      <td>2</td>\n",
       "      <td>1.5</td>\n",
       "      <td>Bad prof, simply put. Thankfully, Borgen is ap...</td>\n",
       "      <td>bad prof simply put thankfully apparently reti...</td>\n",
       "    </tr>\n",
       "    <tr>\n",
       "      <th>2</th>\n",
       "      <td>2</td>\n",
       "      <td>2</td>\n",
       "      <td>1</td>\n",
       "      <td>2</td>\n",
       "      <td>1.5</td>\n",
       "      <td>Pretentious, disorganized, rants, and goes off...</td>\n",
       "      <td>pretentious disorganize rant go tangent readin...</td>\n",
       "    </tr>\n",
       "    <tr>\n",
       "      <th>3</th>\n",
       "      <td>3</td>\n",
       "      <td>2</td>\n",
       "      <td>2</td>\n",
       "      <td>3</td>\n",
       "      <td>2.0</td>\n",
       "      <td>Very disorganized in lecture, does not go into...</td>\n",
       "      <td>disorganize lecture not go detail explain term...</td>\n",
       "    </tr>\n",
       "    <tr>\n",
       "      <th>4</th>\n",
       "      <td>4</td>\n",
       "      <td>3</td>\n",
       "      <td>2</td>\n",
       "      <td>2</td>\n",
       "      <td>2.5</td>\n",
       "      <td>Pretentious, scatter brained, and enjoys belit...</td>\n",
       "      <td>pretentious scatter brain enjoy student stupid...</td>\n",
       "    </tr>\n",
       "    <tr>\n",
       "      <th>...</th>\n",
       "      <td>...</td>\n",
       "      <td>...</td>\n",
       "      <td>...</td>\n",
       "      <td>...</td>\n",
       "      <td>...</td>\n",
       "      <td>...</td>\n",
       "      <td>...</td>\n",
       "    </tr>\n",
       "    <tr>\n",
       "      <th>64860</th>\n",
       "      <td>65888</td>\n",
       "      <td>2</td>\n",
       "      <td>2</td>\n",
       "      <td>4</td>\n",
       "      <td>2.0</td>\n",
       "      <td>Probably one of the worst classes I've taken h...</td>\n",
       "      <td>probably one bad class take feel support guide...</td>\n",
       "    </tr>\n",
       "    <tr>\n",
       "      <th>64861</th>\n",
       "      <td>65889</td>\n",
       "      <td>2</td>\n",
       "      <td>2</td>\n",
       "      <td>4</td>\n",
       "      <td>2.0</td>\n",
       "      <td>Reading memos are time consuming and there is ...</td>\n",
       "      <td>reading memo time consume one due every class ...</td>\n",
       "    </tr>\n",
       "    <tr>\n",
       "      <th>64862</th>\n",
       "      <td>65890</td>\n",
       "      <td>4</td>\n",
       "      <td>4</td>\n",
       "      <td>4</td>\n",
       "      <td>4.0</td>\n",
       "      <td>This class was great and the professor is real...</td>\n",
       "      <td>class great professor really knowledgeable thi...</td>\n",
       "    </tr>\n",
       "    <tr>\n",
       "      <th>64863</th>\n",
       "      <td>65891</td>\n",
       "      <td>4</td>\n",
       "      <td>4</td>\n",
       "      <td>4</td>\n",
       "      <td>4.0</td>\n",
       "      <td>Professor Clerge gave us good readings and add...</td>\n",
       "      <td>professor give u good reading additional optio...</td>\n",
       "    </tr>\n",
       "    <tr>\n",
       "      <th>64864</th>\n",
       "      <td>65892</td>\n",
       "      <td>3</td>\n",
       "      <td>3</td>\n",
       "      <td>4</td>\n",
       "      <td>3.0</td>\n",
       "      <td>She's a good person and the class is bearable....</td>\n",
       "      <td>good person class bearable either straight rea...</td>\n",
       "    </tr>\n",
       "  </tbody>\n",
       "</table>\n",
       "<p>64865 rows × 7 columns</p>\n",
       "</div>"
      ],
      "text/plain": [
       "       Unnamed: 0  clarityRating  helpfulRating  difficultyRating  \\\n",
       "0               0              5              5                 1   \n",
       "1               1              2              1                 2   \n",
       "2               2              2              1                 2   \n",
       "3               3              2              2                 3   \n",
       "4               4              3              2                 2   \n",
       "...           ...            ...            ...               ...   \n",
       "64860       65888              2              2                 4   \n",
       "64861       65889              2              2                 4   \n",
       "64862       65890              4              4                 4   \n",
       "64863       65891              4              4                 4   \n",
       "64864       65892              3              3                 4   \n",
       "\n",
       "       qualityRating                                            comment  \\\n",
       "0                5.0  He is amazing! I had lots of fun in his class....   \n",
       "1                1.5  Bad prof, simply put. Thankfully, Borgen is ap...   \n",
       "2                1.5  Pretentious, disorganized, rants, and goes off...   \n",
       "3                2.0  Very disorganized in lecture, does not go into...   \n",
       "4                2.5  Pretentious, scatter brained, and enjoys belit...   \n",
       "...              ...                                                ...   \n",
       "64860            2.0  Probably one of the worst classes I've taken h...   \n",
       "64861            2.0  Reading memos are time consuming and there is ...   \n",
       "64862            4.0  This class was great and the professor is real...   \n",
       "64863            4.0  Professor Clerge gave us good readings and add...   \n",
       "64864            3.0  She's a good person and the class is bearable....   \n",
       "\n",
       "                                            commentWords  \n",
       "0      amazing lot fun class get use may seem little ...  \n",
       "1      bad prof simply put thankfully apparently reti...  \n",
       "2      pretentious disorganize rant go tangent readin...  \n",
       "3      disorganize lecture not go detail explain term...  \n",
       "4      pretentious scatter brain enjoy student stupid...  \n",
       "...                                                  ...  \n",
       "64860  probably one bad class take feel support guide...  \n",
       "64861  reading memo time consume one due every class ...  \n",
       "64862  class great professor really knowledgeable thi...  \n",
       "64863  professor give u good reading additional optio...  \n",
       "64864  good person class bearable either straight rea...  \n",
       "\n",
       "[64865 rows x 7 columns]"
      ]
     },
     "execution_count": 2,
     "metadata": {},
     "output_type": "execute_result"
    }
   ],
   "source": [
    "# Read in csv containing cleaned reviews.\n",
    "reviews = pd.read_csv(\"reviews_cleaned.csv\")\n",
    "reviews"
   ]
  },
  {
   "cell_type": "code",
   "execution_count": 3,
   "id": "17858f60",
   "metadata": {
    "scrolled": true
   },
   "outputs": [
    {
     "data": {
      "text/html": [
       "<div>\n",
       "<style scoped>\n",
       "    .dataframe tbody tr th:only-of-type {\n",
       "        vertical-align: middle;\n",
       "    }\n",
       "\n",
       "    .dataframe tbody tr th {\n",
       "        vertical-align: top;\n",
       "    }\n",
       "\n",
       "    .dataframe thead th {\n",
       "        text-align: right;\n",
       "    }\n",
       "</style>\n",
       "<table border=\"1\" class=\"dataframe\">\n",
       "  <thead>\n",
       "    <tr style=\"text-align: right;\">\n",
       "      <th></th>\n",
       "      <th>Unnamed: 0</th>\n",
       "      <th>clarityRating</th>\n",
       "      <th>helpfulRating</th>\n",
       "      <th>difficultyRating</th>\n",
       "      <th>qualityRating</th>\n",
       "      <th>comment</th>\n",
       "      <th>commentWords</th>\n",
       "    </tr>\n",
       "  </thead>\n",
       "  <tbody>\n",
       "    <tr>\n",
       "      <th>0</th>\n",
       "      <td>0</td>\n",
       "      <td>5</td>\n",
       "      <td>5</td>\n",
       "      <td>1</td>\n",
       "      <td>5.0</td>\n",
       "      <td>He is amazing! I had lots of fun in his class....</td>\n",
       "      <td>amazing lot fun class get use may seem little ...</td>\n",
       "    </tr>\n",
       "    <tr>\n",
       "      <th>1</th>\n",
       "      <td>1</td>\n",
       "      <td>2</td>\n",
       "      <td>1</td>\n",
       "      <td>2</td>\n",
       "      <td>1.5</td>\n",
       "      <td>Bad prof, simply put. Thankfully, Borgen is ap...</td>\n",
       "      <td>bad prof simply put thankfully apparently reti...</td>\n",
       "    </tr>\n",
       "    <tr>\n",
       "      <th>2</th>\n",
       "      <td>2</td>\n",
       "      <td>2</td>\n",
       "      <td>1</td>\n",
       "      <td>2</td>\n",
       "      <td>1.5</td>\n",
       "      <td>Pretentious, disorganized, rants, and goes off...</td>\n",
       "      <td>pretentious disorganize rant go tangent readin...</td>\n",
       "    </tr>\n",
       "    <tr>\n",
       "      <th>3</th>\n",
       "      <td>3</td>\n",
       "      <td>2</td>\n",
       "      <td>2</td>\n",
       "      <td>3</td>\n",
       "      <td>2.0</td>\n",
       "      <td>Very disorganized in lecture, does not go into...</td>\n",
       "      <td>disorganize lecture not go detail explain term...</td>\n",
       "    </tr>\n",
       "    <tr>\n",
       "      <th>4</th>\n",
       "      <td>4</td>\n",
       "      <td>3</td>\n",
       "      <td>2</td>\n",
       "      <td>2</td>\n",
       "      <td>2.5</td>\n",
       "      <td>Pretentious, scatter brained, and enjoys belit...</td>\n",
       "      <td>pretentious scatter brain enjoy student stupid...</td>\n",
       "    </tr>\n",
       "    <tr>\n",
       "      <th>...</th>\n",
       "      <td>...</td>\n",
       "      <td>...</td>\n",
       "      <td>...</td>\n",
       "      <td>...</td>\n",
       "      <td>...</td>\n",
       "      <td>...</td>\n",
       "      <td>...</td>\n",
       "    </tr>\n",
       "    <tr>\n",
       "      <th>64860</th>\n",
       "      <td>65888</td>\n",
       "      <td>2</td>\n",
       "      <td>2</td>\n",
       "      <td>4</td>\n",
       "      <td>2.0</td>\n",
       "      <td>Probably one of the worst classes I've taken h...</td>\n",
       "      <td>probably one bad class take feel support guide...</td>\n",
       "    </tr>\n",
       "    <tr>\n",
       "      <th>64861</th>\n",
       "      <td>65889</td>\n",
       "      <td>2</td>\n",
       "      <td>2</td>\n",
       "      <td>4</td>\n",
       "      <td>2.0</td>\n",
       "      <td>Reading memos are time consuming and there is ...</td>\n",
       "      <td>reading memo time consume one due every class ...</td>\n",
       "    </tr>\n",
       "    <tr>\n",
       "      <th>64862</th>\n",
       "      <td>65890</td>\n",
       "      <td>4</td>\n",
       "      <td>4</td>\n",
       "      <td>4</td>\n",
       "      <td>4.0</td>\n",
       "      <td>This class was great and the professor is real...</td>\n",
       "      <td>class great professor really knowledgeable thi...</td>\n",
       "    </tr>\n",
       "    <tr>\n",
       "      <th>64863</th>\n",
       "      <td>65891</td>\n",
       "      <td>4</td>\n",
       "      <td>4</td>\n",
       "      <td>4</td>\n",
       "      <td>4.0</td>\n",
       "      <td>Professor Clerge gave us good readings and add...</td>\n",
       "      <td>professor give u good reading additional optio...</td>\n",
       "    </tr>\n",
       "    <tr>\n",
       "      <th>64864</th>\n",
       "      <td>65892</td>\n",
       "      <td>3</td>\n",
       "      <td>3</td>\n",
       "      <td>4</td>\n",
       "      <td>3.0</td>\n",
       "      <td>She's a good person and the class is bearable....</td>\n",
       "      <td>good person class bearable either straight rea...</td>\n",
       "    </tr>\n",
       "  </tbody>\n",
       "</table>\n",
       "<p>64865 rows × 7 columns</p>\n",
       "</div>"
      ],
      "text/plain": [
       "       Unnamed: 0  clarityRating  helpfulRating  difficultyRating  \\\n",
       "0               0              5              5                 1   \n",
       "1               1              2              1                 2   \n",
       "2               2              2              1                 2   \n",
       "3               3              2              2                 3   \n",
       "4               4              3              2                 2   \n",
       "...           ...            ...            ...               ...   \n",
       "64860       65888              2              2                 4   \n",
       "64861       65889              2              2                 4   \n",
       "64862       65890              4              4                 4   \n",
       "64863       65891              4              4                 4   \n",
       "64864       65892              3              3                 4   \n",
       "\n",
       "       qualityRating                                            comment  \\\n",
       "0                5.0  He is amazing! I had lots of fun in his class....   \n",
       "1                1.5  Bad prof, simply put. Thankfully, Borgen is ap...   \n",
       "2                1.5  Pretentious, disorganized, rants, and goes off...   \n",
       "3                2.0  Very disorganized in lecture, does not go into...   \n",
       "4                2.5  Pretentious, scatter brained, and enjoys belit...   \n",
       "...              ...                                                ...   \n",
       "64860            2.0  Probably one of the worst classes I've taken h...   \n",
       "64861            2.0  Reading memos are time consuming and there is ...   \n",
       "64862            4.0  This class was great and the professor is real...   \n",
       "64863            4.0  Professor Clerge gave us good readings and add...   \n",
       "64864            3.0  She's a good person and the class is bearable....   \n",
       "\n",
       "                                            commentWords  \n",
       "0      amazing lot fun class get use may seem little ...  \n",
       "1      bad prof simply put thankfully apparently reti...  \n",
       "2      pretentious disorganize rant go tangent readin...  \n",
       "3      disorganize lecture not go detail explain term...  \n",
       "4      pretentious scatter brain enjoy student stupid...  \n",
       "...                                                  ...  \n",
       "64860  probably one bad class take feel support guide...  \n",
       "64861  reading memo time consume one due every class ...  \n",
       "64862  class great professor really knowledgeable thi...  \n",
       "64863  professor give u good reading additional optio...  \n",
       "64864  good person class bearable either straight rea...  \n",
       "\n",
       "[64865 rows x 7 columns]"
      ]
     },
     "execution_count": 3,
     "metadata": {},
     "output_type": "execute_result"
    }
   ],
   "source": [
    "# Convert review comments to strings.\n",
    "reviews = reviews.astype({'commentWords':'string'})\n",
    "reviews"
   ]
  },
  {
   "cell_type": "code",
   "execution_count": 4,
   "id": "5567326e",
   "metadata": {},
   "outputs": [],
   "source": [
    "# Remove any rows with NAs that remain.\n",
    "reviews = reviews.dropna()"
   ]
  },
  {
   "cell_type": "markdown",
   "id": "dd105395",
   "metadata": {},
   "source": [
    "## Logistic Regression"
   ]
  },
  {
   "cell_type": "markdown",
   "id": "9ab917c0",
   "metadata": {},
   "source": [
    "We need to create a new column for sentiment for our logistic regression model. We will consider quality scores above 3 to be positive and those below 3 to be negative. Rows with scores of 3 exactly will be removed."
   ]
  },
  {
   "cell_type": "code",
   "execution_count": 5,
   "id": "8a0238d7",
   "metadata": {},
   "outputs": [],
   "source": [
    "# Remove rows from the dataframe where score is 3\n",
    "reviews = reviews[reviews['qualityRating'] != 3.0]"
   ]
  },
  {
   "cell_type": "code",
   "execution_count": 6,
   "id": "669758ba",
   "metadata": {},
   "outputs": [],
   "source": [
    "# Add a new column for 'sentiment'\n",
    "sentiment = reviews['qualityRating'].apply(lambda x: 1 if x > 3 else -1)\n",
    "reviews = reviews.assign(sentiment=sentiment)"
   ]
  },
  {
   "cell_type": "markdown",
   "id": "8463e42a",
   "metadata": {},
   "source": [
    "Here we need to split the data into a training set and a test set. Typically, this is done with a 80/20 ratio."
   ]
  },
  {
   "cell_type": "code",
   "execution_count": 7,
   "id": "0fd7c4ed",
   "metadata": {},
   "outputs": [],
   "source": [
    "# Split the data into a 80% train set and a 20% test set\n",
    "rv_train, rv_test = train_test_split(reviews, test_size=0.2)"
   ]
  },
  {
   "cell_type": "markdown",
   "id": "f3e5df85",
   "metadata": {},
   "source": [
    "Now we need to create a bag of words model out of our comments."
   ]
  },
  {
   "cell_type": "code",
   "execution_count": 8,
   "id": "5efd280a",
   "metadata": {},
   "outputs": [],
   "source": [
    "# Create count vectorizer object to generate sparse matrix.\n",
    "count_vectorizer = CountVectorizer(tokenizer=nltk.word_tokenize)"
   ]
  },
  {
   "cell_type": "code",
   "execution_count": 9,
   "id": "c12de013",
   "metadata": {},
   "outputs": [],
   "source": [
    "# COMMENT\n",
    "rv_train_matrix = count_vectorizer.fit_transform(rv_train['commentWords'])"
   ]
  },
  {
   "cell_type": "code",
   "execution_count": 10,
   "id": "a3691157",
   "metadata": {},
   "outputs": [],
   "source": [
    "# COMMENT\n",
    "rv_test_matrix = count_vectorizer.transform(rv_test['commentWords'])"
   ]
  },
  {
   "cell_type": "code",
   "execution_count": 25,
   "id": "e22eb0de",
   "metadata": {},
   "outputs": [
    {
     "data": {
      "text/plain": [
       "<47118x9885 sparse matrix of type '<class 'numpy.int64'>'\n",
       "\twith 940717 stored elements in Compressed Sparse Row format>"
      ]
     },
     "execution_count": 25,
     "metadata": {},
     "output_type": "execute_result"
    }
   ],
   "source": [
    "rv_train_matrix"
   ]
  },
  {
   "cell_type": "markdown",
   "id": "54175a46",
   "metadata": {},
   "source": [
    "Conduct a basic logistic regression."
   ]
  },
  {
   "cell_type": "code",
   "execution_count": 11,
   "id": "f9726551",
   "metadata": {},
   "outputs": [],
   "source": [
    "# Initialize logistic regression object.\n",
    "lr = LogisticRegression(max_iter = 1000000)"
   ]
  },
  {
   "cell_type": "code",
   "execution_count": 12,
   "id": "89ce5752",
   "metadata": {},
   "outputs": [
    {
     "data": {
      "text/plain": [
       "LogisticRegression(max_iter=1000000)"
      ]
     },
     "execution_count": 12,
     "metadata": {},
     "output_type": "execute_result"
    }
   ],
   "source": [
    "# Fit the logistic regression model.\n",
    "lr.fit(rv_train_matrix, rv_train['sentiment'])"
   ]
  },
  {
   "cell_type": "code",
   "execution_count": 13,
   "id": "592fc6dd",
   "metadata": {},
   "outputs": [],
   "source": [
    "# COMMENT\n",
    "pred = lr.predict(rv_test_matrix)"
   ]
  },
  {
   "cell_type": "code",
   "execution_count": 14,
   "id": "92b88b77",
   "metadata": {},
   "outputs": [
    {
     "name": "stdout",
     "output_type": "stream",
     "text": [
      "              precision    recall  f1-score   support\n",
      "\n",
      "          -1       0.77      0.84      0.80      3218\n",
      "           1       0.94      0.91      0.92      8562\n",
      "\n",
      "    accuracy                           0.89     11780\n",
      "   macro avg       0.86      0.87      0.86     11780\n",
      "weighted avg       0.89      0.89      0.89     11780\n",
      "\n"
     ]
    }
   ],
   "source": [
    "# Output the classification report of the logistic regression.\n",
    "print(classification_report(pred, rv_test['sentiment']))"
   ]
  },
  {
   "cell_type": "code",
   "execution_count": 15,
   "id": "8c4314ca",
   "metadata": {},
   "outputs": [
    {
     "data": {
      "image/png": "[encoded data removed]",
      "text/plain": [
       "<Figure size 432x288 with 1 Axes>"
      ]
     },
     "metadata": {
      "needs_background": "light"
     },
     "output_type": "display_data"
    },
    {
     "data": {
      "text/plain": [
       "<AxesSubplot:title={'center':'Frequency of 30 Most Common Words in Negative Reviews'}, xlabel='Samples', ylabel='Counts'>"
      ]
     },
     "execution_count": 15,
     "metadata": {},
     "output_type": "execute_result"
    }
   ],
   "source": [
    "# Create a plot of the frequency of the 30 most common words in negative reviews.\n",
    "reviews_neg = reviews[sentiment == -1]\n",
    "words = \" \".join(reviews_neg.commentWords)\n",
    "words = words.split()\n",
    "freq = nltk.FreqDist(words)\n",
    "freq.plot(30, title=\"Frequency of 30 Most Common Words in Negative Reviews\")"
   ]
  },
  {
   "cell_type": "code",
   "execution_count": 16,
   "id": "6483e065",
   "metadata": {},
   "outputs": [
    {
     "data": {
      "image/png": "[encoded data removed]",
      "text/plain": [
       "<Figure size 432x288 with 1 Axes>"
      ]
     },
     "metadata": {
      "needs_background": "light"
     },
     "output_type": "display_data"
    },
    {
     "data": {
      "text/plain": [
       "<AxesSubplot:title={'center':'Frequency of 30 Most Common Words in Positive Reviews'}, xlabel='Samples', ylabel='Counts'>"
      ]
     },
     "execution_count": 16,
     "metadata": {},
     "output_type": "execute_result"
    }
   ],
   "source": [
    "# Create a plot of the frequency of the 30 most common words in positive reviews.\n",
    "reviews_pos = reviews[sentiment == 1]\n",
    "words = \" \".join(reviews_pos.commentWords)\n",
    "words = words.split()\n",
    "freq = nltk.FreqDist(words)\n",
    "freq.plot(30, title=\"Frequency of 30 Most Common Words in Positive Reviews\")"
   ]
  },
  {
   "cell_type": "markdown",
   "id": "a8c49e93",
   "metadata": {},
   "source": [
    "### Eliminating Words Without Sentimental Meaning"
   ]
  },
  {
   "cell_type": "markdown",
   "id": "323194ce",
   "metadata": {},
   "source": [
    "From the two charts above, we can see many of the words do not have any bearing on the actual sentiment that the reviewer holds and appear very frequently in both positive and negative reviews. Words like \"class\" are nouns that sentiment-defining adjectives refer to. These words need to be removed from the words our model is taking into account. This may help to improve the accuracy of the model."
   ]
  },
  {
   "cell_type": "code",
   "execution_count": 17,
   "id": "eae55ef9",
   "metadata": {},
   "outputs": [],
   "source": [
    "general_words = ['class', 'lecture', 'professor']"
   ]
  },
  {
   "cell_type": "markdown",
   "id": "1e07a14f",
   "metadata": {},
   "source": [
    "### Concatenating \"Not\" "
   ]
  },
  {
   "cell_type": "markdown",
   "id": "582088ce",
   "metadata": {},
   "source": [
    "Consider for a moment sentences like the following: \"This professsor is not good.\" Our data processing would have reduced this to a string containing `professor not good`. Intuitively, we are aware that the \"not\" preceding \"good\" negates the meaning of good. This is a likely explanation for why \"good\" and other positive words appear so frequently in negative reviews. One possible solution to this issue is to simply combine not into the word that follows it."
   ]
  },
  {
   "cell_type": "code",
   "execution_count": 18,
   "id": "f5325c01",
   "metadata": {},
   "outputs": [],
   "source": [
    "def concat_not(comment_string):\n",
    "    '''COMMENT\n",
    "    '''\n",
    "    # Splits string into list of words\n",
    "    word_list = comment_string.split()\n",
    "    # Iterates through the list of words and concatenates not onto the word following not.\n",
    "    # If not is the final word it is left unchanged.\n",
    "    for index, word in enumerate(word_list):\n",
    "        if word == 'not' and index != len(word_list)-1:\n",
    "            word_list[index+1] = 'not' + word_list[index+1]\n",
    "            word_list[index] = None\n",
    "    # Join list of words back into a string while filtering out none values.\n",
    "    comment_string = ' '.join(filter(None, word_list))\n",
    "    return comment_string"
   ]
  },
  {
   "cell_type": "code",
   "execution_count": 19,
   "id": "2684351b",
   "metadata": {},
   "outputs": [],
   "source": [
    "def series_concat_not(series):\n",
    "    '''Applies concat_not function to all elements of a series of strings\n",
    "    '''\n",
    "    new_series = series.copy()\n",
    "    for index, string in new_series.items():\n",
    "        new_series.loc[index] = concat_not(string)\n",
    "    return new_series"
   ]
  },
  {
   "cell_type": "code",
   "execution_count": 20,
   "id": "3b782a5e",
   "metadata": {},
   "outputs": [],
   "source": [
    "# Apply the series_concat_not function to the training and test data.\n",
    "cv_train_words = series_concat_not(rv_train['commentWords'])\n",
    "cv_test_words = series_concat_not(rv_test['commentWords'])"
   ]
  },
  {
   "cell_type": "code",
   "execution_count": 21,
   "id": "e70284fc",
   "metadata": {},
   "outputs": [
    {
     "name": "stdout",
     "output_type": "stream",
     "text": [
      "              precision    recall  f1-score   support\n",
      "\n",
      "          -1       0.78      0.84      0.81      3230\n",
      "           1       0.94      0.91      0.93      8550\n",
      "\n",
      "    accuracy                           0.89     11780\n",
      "   macro avg       0.86      0.88      0.87     11780\n",
      "weighted avg       0.90      0.89      0.89     11780\n",
      "\n"
     ]
    }
   ],
   "source": [
    "# Create new count matrices and fit a new logistic regression model.\n",
    "cv_train_matrix = count_vectorizer.fit_transform(cv_train_words)\n",
    "cv_test_matrix = count_vectorizer.transform(cv_test_words)\n",
    "\n",
    "lr.fit(cv_train_matrix, rv_train['sentiment'])\n",
    "cv_pred = lr.predict(cv_test_matrix)\n",
    "\n",
    "print(classification_report(cv_pred, rv_test['sentiment']))"
   ]
  },
  {
   "cell_type": "markdown",
   "id": "15081ee8",
   "metadata": {},
   "source": [
    "Concatenating \"not\" only provides a slight improvement to the logistic regression."
   ]
  },
  {
   "cell_type": "markdown",
   "id": "fe9b41fe",
   "metadata": {},
   "source": [
    "### Logisitic Regression with Bigrams"
   ]
  },
  {
   "cell_type": "code",
   "execution_count": 22,
   "id": "3bd76ddc",
   "metadata": {},
   "outputs": [
    {
     "name": "stdout",
     "output_type": "stream",
     "text": [
      "              precision    recall  f1-score   support\n",
      "\n",
      "          -1       0.71      0.84      0.77      2927\n",
      "           1       0.94      0.88      0.91      8853\n",
      "\n",
      "    accuracy                           0.87     11780\n",
      "   macro avg       0.83      0.86      0.84     11780\n",
      "weighted avg       0.89      0.87      0.88     11780\n",
      "\n"
     ]
    }
   ],
   "source": [
    "# Implement the above process of logistic regression with bigrams instead.\n",
    "bg_count_vectorizer = CountVectorizer(tokenizer=nltk.word_tokenize, ngram_range=(2,2))\n",
    "bg_rv_train_matrix = bg_count_vectorizer.fit_transform(rv_train['commentWords'])\n",
    "bg_rv_test_matrix = bg_count_vectorizer.transform(rv_test['commentWords'])\n",
    "\n",
    "lr.fit(bg_rv_train_matrix, rv_train['sentiment'])\n",
    "bg_pred = lr.predict(bg_rv_test_matrix)\n",
    "\n",
    "print(classification_report(bg_pred, rv_test['sentiment']))"
   ]
  },
  {
   "cell_type": "markdown",
   "id": "fec023e2",
   "metadata": {},
   "source": [
    "The bigram model does not seem to improve the results of the logisitic regression."
   ]
  },
  {
   "cell_type": "code",
   "execution_count": null,
   "id": "c1fb351f",
   "metadata": {},
   "outputs": [],
   "source": []
  }
 ],
 "metadata": {
  "kernelspec": {
   "display_name": "Python 3 (ipykernel)",
   "language": "python",
   "name": "python3"
  },
  "language_info": {
   "codemirror_mode": {
    "name": "ipython",
    "version": 3
   },
   "file_extension": ".py",
   "mimetype": "text/x-python",
   "name": "python",
   "nbconvert_exporter": "python",
   "pygments_lexer": "ipython3",
   "version": "3.9.12"
  }
 },
 "nbformat": 4,
 "nbformat_minor": 5
}
